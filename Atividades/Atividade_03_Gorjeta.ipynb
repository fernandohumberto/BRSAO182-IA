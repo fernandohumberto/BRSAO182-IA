{
 "cells": [
  {
   "cell_type": "code",
   "execution_count": 10,
   "id": "77cb7d73",
   "metadata": {},
   "outputs": [
    {
     "name": "stdout",
     "output_type": "stream",
     "text": [
      "\n",
      "Conta: R$ 50.00\n",
      "Gorjeta: R$ 7.50 (15%)\n",
      "Total a pagar: R$ 57.50\n"
     ]
    }
   ],
   "source": [
    "def calcular_gorjeta(valor_conta: float) -> float:  # Calcula 15% do valor da conta como gorjeta\n",
    "    return valor_conta * 0.15                       \n",
    "\n",
    "# Pede para o usuário digitar o valor da conta\n",
    "valor_conta = float(input(\"Valor da conta: R$ \"))  \n",
    "\n",
    "# Calcula o valor da gorjeta\n",
    "valor_gorjeta = calcular_gorjeta(valor_conta)      \n",
    "\n",
    "# Soma valor da conta com a gorjeta para obter total a pagar\n",
    "valor_total = valor_conta + valor_gorjeta           \n",
    "\n",
    "# Mostra a conta, gorjeta e total formatados com 2 casas decimais\n",
    "print(f\"\\nConta: R$ {valor_conta:.2f}\")               \n",
    "print(f\"Gorjeta: R$ {valor_gorjeta:.2f} (15%)\")        \n",
    "print(f\"Total a pagar: R$ {valor_total:.2f}\")           \n"
   ]
  }
 ],
 "metadata": {
  "kernelspec": {
   "display_name": "Python 3",
   "language": "python",
   "name": "python3"
  },
  "language_info": {
   "codemirror_mode": {
    "name": "ipython",
    "version": 3
   },
   "file_extension": ".py",
   "mimetype": "text/x-python",
   "name": "python",
   "nbconvert_exporter": "python",
   "pygments_lexer": "ipython3",
   "version": "3.12.10"
  }
 },
 "nbformat": 4,
 "nbformat_minor": 5
}
