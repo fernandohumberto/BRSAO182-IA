{
 "cells": [
  {
   "cell_type": "code",
   "execution_count": 13,
   "id": "77cb7d73",
   "metadata": {},
   "outputs": [
    {
     "name": "stdout",
     "output_type": "stream",
     "text": [
      "\n",
      "Conta: R$ 15.00\n",
      "Gorjeta: R$ 2.25 (15%)\n",
      "Total a pagar: R$ 17.25\n"
     ]
    }
   ],
   "source": [
    "def calcular_gorjeta(valor_conta: float, porcentagem: float) -> float:\n",
    "    return valor_conta * (porcentagem / 100)\n",
    "\n",
    "# Entrada de dados\n",
    "valor_conta = float(input(\"Valor da conta: R$ \"))\n",
    "porcentagem_gorjeta = float(input(\"Porcentagem da gorjeta (%): \"))\n",
    "\n",
    "# Cálculo\n",
    "valor_gorjeta = calcular_gorjeta(valor_conta, porcentagem_gorjeta)\n",
    "valor_total = valor_conta + valor_gorjeta\n",
    "\n",
    "# Saída\n",
    "print(f\"\\nConta: R$ {valor_conta:.2f}\")\n",
    "print(f\"Gorjeta: R$ {valor_gorjeta:.2f} ({porcentagem_gorjeta:.0f}%)\")\n",
    "print(f\"Total a pagar: R$ {valor_total:.2f}\")\n"
   ]
  }
 ],
 "metadata": {
  "kernelspec": {
   "display_name": "Python 3",
   "language": "python",
   "name": "python3"
  },
  "language_info": {
   "codemirror_mode": {
    "name": "ipython",
    "version": 3
   },
   "file_extension": ".py",
   "mimetype": "text/x-python",
   "name": "python",
   "nbconvert_exporter": "python",
   "pygments_lexer": "ipython3",
   "version": "3.12.10"
  }
 },
 "nbformat": 4,
 "nbformat_minor": 5
}
