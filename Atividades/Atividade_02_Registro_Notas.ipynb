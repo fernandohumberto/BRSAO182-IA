{
 "cells": [
  {
   "cell_type": "code",
   "execution_count": 3,
   "id": "bea686c8",
   "metadata": {},
   "outputs": [
    {
     "name": "stdout",
     "output_type": "stream",
     "text": [
      "Nota inválida. Digite um valor entre 0 e 10.\n",
      "Nota inválida. Digite um valor entre 0 e 10.\n",
      "Nota inválida. Digite um valor entre 0 e 10.\n",
      "Nota inválida. Digite um valor entre 0 e 10.\n",
      "Nota inválida. Digite um valor entre 0 e 10.\n",
      "Nota inválida. Digite um valor entre 0 e 10.\n",
      "Nota inválida. Digite um valor entre 0 e 10.\n",
      "Média da turma: 4.67\n"
     ]
    }
   ],
   "source": [
    "notas = []\n",
    "while True:\n",
    "    entrada = input(\"Digite a nota do aluno (ou 'fim' para encerrar): \").strip()\n",
    "    if entrada.lower() == 'fim':\n",
    "        break\n",
    "    try:\n",
    "        nota = float(entrada)\n",
    "        if 0 <= nota <= 10:\n",
    "            notas.append(nota)\n",
    "        else:\n",
    "            print(\"Nota inválida. Digite um valor entre 0 e 10.\")\n",
    "    except ValueError:\n",
    "        print(\"Entrada inválida. Digite um número ou 'fim'.\")\n",
    "\n",
    "if len(notas) > 0:\n",
    "    media = sum(notas) / len(notas)\n",
    "    print(f\"Média da turma: {media:.2f}\")\n",
    "else:\n",
    "    print(\"Nenhuma nota válida foi registrada.\")"
   ]
  }
 ],
 "metadata": {
  "kernelspec": {
   "display_name": "Python 3",
   "language": "python",
   "name": "python3"
  },
  "language_info": {
   "codemirror_mode": {
    "name": "ipython",
    "version": 3
   },
   "file_extension": ".py",
   "mimetype": "text/x-python",
   "name": "python",
   "nbconvert_exporter": "python",
   "pygments_lexer": "ipython3",
   "version": "3.12.10"
  }
 },
 "nbformat": 4,
 "nbformat_minor": 5
}
